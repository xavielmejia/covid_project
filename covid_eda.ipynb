{
 "metadata": {
  "language_info": {
   "codemirror_mode": {
    "name": "ipython",
    "version": 3
   },
   "file_extension": ".py",
   "mimetype": "text/x-python",
   "name": "python",
   "nbconvert_exporter": "python",
   "pygments_lexer": "ipython3",
   "version": "3.7.2"
  },
  "orig_nbformat": 4,
  "kernelspec": {
   "name": "python3",
   "display_name": "Python 3.7.2  ('env': venv)"
  },
  "interpreter": {
   "hash": "217903f53838f0352fc6bfb96bfb0a48d08772f8b7bcc087170dc59fd2e3cd0c"
  }
 },
 "nbformat": 4,
 "nbformat_minor": 2,
 "cells": [
  {
   "source": [
    "# Exploratory data analysis"
   ],
   "cell_type": "markdown",
   "metadata": {}
  },
  {
   "source": [
    "### Importing libraries"
   ],
   "cell_type": "markdown",
   "metadata": {}
  },
  {
   "cell_type": "code",
   "execution_count": 3,
   "metadata": {},
   "outputs": [],
   "source": [
    "import pandas as pd\n",
    "import matplotlib.pyplot as plt\n",
    "import seaborn as sns\n",
    "from config.database_connection import Connect"
   ]
  },
  {
   "cell_type": "code",
   "execution_count": 4,
   "metadata": {},
   "outputs": [],
   "source": [
    "con_covid = Connect('covid').connect_mssql_localhost()\n",
    "query = ''' \n",
    "select \n",
    "    id\n",
    "    ,countryName\n",
    "    ,countryCode\n",
    "    ,province\n",
    "    ,city\n",
    "    ,latitude\n",
    "    ,longitude\n",
    "    ,confirmed\n",
    "    ,deaths\n",
    "    ,recovered\n",
    "    ,active\n",
    "    ,date\n",
    "    ,createdDate\n",
    "from\n",
    "    covidCases\n",
    "'''\n",
    "df_covid = pd.read_sql(query, con_covid)"
   ]
  },
  {
   "cell_type": "code",
   "execution_count": 5,
   "metadata": {},
   "outputs": [
    {
     "output_type": "execute_result",
     "data": {
      "text/plain": [
       "     id countryName countryCode province city latitude longitude confirmed  \\\n",
       "0  1406  Uzbekistan                                  0         0         1   \n",
       "1  1407  Uzbekistan                                  0         0         6   \n",
       "2  1408  Uzbekistan                                  0         0        10   \n",
       "3  1409  Uzbekistan                                  0         0        15   \n",
       "4  1410  Uzbekistan                                  0         0        23   \n",
       "\n",
       "  deaths recovered active                  date createdDate  \n",
       "0      0         0      1  2020-03-15T00:00:00Z  2021-06-23  \n",
       "1      0         0      6  2020-03-16T00:00:00Z  2021-06-23  \n",
       "2      0         0     10  2020-03-17T00:00:00Z  2021-06-23  \n",
       "3      0         0     15  2020-03-18T00:00:00Z  2021-06-23  \n",
       "4      0         0     23  2020-03-19T00:00:00Z  2021-06-23  "
      ],
      "text/html": "<div>\n<style scoped>\n    .dataframe tbody tr th:only-of-type {\n        vertical-align: middle;\n    }\n\n    .dataframe tbody tr th {\n        vertical-align: top;\n    }\n\n    .dataframe thead th {\n        text-align: right;\n    }\n</style>\n<table border=\"1\" class=\"dataframe\">\n  <thead>\n    <tr style=\"text-align: right;\">\n      <th></th>\n      <th>id</th>\n      <th>countryName</th>\n      <th>countryCode</th>\n      <th>province</th>\n      <th>city</th>\n      <th>latitude</th>\n      <th>longitude</th>\n      <th>confirmed</th>\n      <th>deaths</th>\n      <th>recovered</th>\n      <th>active</th>\n      <th>date</th>\n      <th>createdDate</th>\n    </tr>\n  </thead>\n  <tbody>\n    <tr>\n      <th>0</th>\n      <td>1406</td>\n      <td>Uzbekistan</td>\n      <td></td>\n      <td></td>\n      <td></td>\n      <td>0</td>\n      <td>0</td>\n      <td>1</td>\n      <td>0</td>\n      <td>0</td>\n      <td>1</td>\n      <td>2020-03-15T00:00:00Z</td>\n      <td>2021-06-23</td>\n    </tr>\n    <tr>\n      <th>1</th>\n      <td>1407</td>\n      <td>Uzbekistan</td>\n      <td></td>\n      <td></td>\n      <td></td>\n      <td>0</td>\n      <td>0</td>\n      <td>6</td>\n      <td>0</td>\n      <td>0</td>\n      <td>6</td>\n      <td>2020-03-16T00:00:00Z</td>\n      <td>2021-06-23</td>\n    </tr>\n    <tr>\n      <th>2</th>\n      <td>1408</td>\n      <td>Uzbekistan</td>\n      <td></td>\n      <td></td>\n      <td></td>\n      <td>0</td>\n      <td>0</td>\n      <td>10</td>\n      <td>0</td>\n      <td>0</td>\n      <td>10</td>\n      <td>2020-03-17T00:00:00Z</td>\n      <td>2021-06-23</td>\n    </tr>\n    <tr>\n      <th>3</th>\n      <td>1409</td>\n      <td>Uzbekistan</td>\n      <td></td>\n      <td></td>\n      <td></td>\n      <td>0</td>\n      <td>0</td>\n      <td>15</td>\n      <td>0</td>\n      <td>0</td>\n      <td>15</td>\n      <td>2020-03-18T00:00:00Z</td>\n      <td>2021-06-23</td>\n    </tr>\n    <tr>\n      <th>4</th>\n      <td>1410</td>\n      <td>Uzbekistan</td>\n      <td></td>\n      <td></td>\n      <td></td>\n      <td>0</td>\n      <td>0</td>\n      <td>23</td>\n      <td>0</td>\n      <td>0</td>\n      <td>23</td>\n      <td>2020-03-19T00:00:00Z</td>\n      <td>2021-06-23</td>\n    </tr>\n  </tbody>\n</table>\n</div>"
     },
     "metadata": {},
     "execution_count": 5
    }
   ],
   "source": [
    "df_covid.head()"
   ]
  }
 ]
}